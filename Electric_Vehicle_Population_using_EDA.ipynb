{
  "metadata": {
    "kernelspec": {
      "language": "python",
      "display_name": "Python 3",
      "name": "python3"
    },
    "language_info": {
      "name": "python",
      "version": "3.10.14",
      "mimetype": "text/x-python",
      "codemirror_mode": {
        "name": "ipython",
        "version": 3
      },
      "pygments_lexer": "ipython3",
      "nbconvert_exporter": "python",
      "file_extension": ".py"
    },
    "kaggle": {
      "accelerator": "none",
      "dataSources": [
        {
          "sourceId": 9537118,
          "sourceType": "datasetVersion",
          "datasetId": 5809040
        }
      ],
      "dockerImageVersionId": 30775,
      "isInternetEnabled": true,
      "language": "python",
      "sourceType": "notebook",
      "isGpuEnabled": false
    },
    "colab": {
      "provenance": []
    }
  },
  "nbformat_minor": 0,
  "nbformat": 4,
  "cells": [
    {
      "cell_type": "markdown",
      "source": [
        "<center style= \"font-family: Calibri; font-weight:bold; letter-spacing: 0px; color:yellow ; border-radius:5px; font-size:250%; text-align:center;padding:3.0px; background: #3da859; border-bottom: 3px solid #2c3e50   ; border-top: 8px solid k; border-top: 8px solid k\" > Electric Vehicles Registered in Washington State </center>\n",
        "  \n",
        "<center style= \"font-family: Calibri; font-weight:bold; letter-spacing: 0px; color: #3da859  ; border-radius:5px; font-size:180%; text-align:center;padding:3.0px; background: yellow; border-bottom: 6px solid #2c3e50   ; border-top: 8px solid k\" > Where are they now </center>"
      ],
      "metadata": {
        "id": "U6W7K1kYJVf8"
      }
    },
    {
      "cell_type": "markdown",
      "source": [
        "<center>\n",
        "<img src=\"https://img.freepik.com/premium-vector/electro-power-green-energy-symbol-linear-electro-cars-charge-charging-station_348818-1002.jpg?size=338&ext=jpg&ga=GA1.1.2008272138.1727222400&semt=ais_hybrid\" width=\"1020\"/>\n",
        "</center>"
      ],
      "metadata": {
        "id": "vrvd_w_vJVf-"
      }
    },
    {
      "cell_type": "markdown",
      "source": [
        "# <p style= \"font-family: Calibri; font-weight:bold; letter-spacing: 0px; color: yellow; border-radius:5px; font-size:120%; text-align:left;padding:3.0px; background: #3da859 ; border-bottom: 4px solid yellow; border-top: 4px solid k\" > 1. Introduction </p>"
      ],
      "metadata": {
        "id": "KWzFSOFLJVf-"
      }
    },
    {
      "cell_type": "markdown",
      "source": [
        "This notebook is about electric vehicles (EV) registered in the US state of Washington. Our aim is to view where these vehicles are now. We expect the majority of the EV to still be in the state of Washington.\n",
        "Tabulation and mapping will be used to bring out and show the findings."
      ],
      "metadata": {
        "id": "LQWFHXB8JVf_"
      }
    },
    {
      "cell_type": "markdown",
      "source": [
        "# <p style= \"font-family: Calibri; font-weight:bold; letter-spacing: 0px; color: yellow; border-radius:5px; font-size:120%; text-align:left;padding:3.0px; background: #3da859 ; border-bottom: 4px solid yellow; border-top: 4px solid k\" > 2. Load Tools and Dataset </p>"
      ],
      "metadata": {
        "id": "6KjEpS3yJVf_"
      }
    },
    {
      "cell_type": "code",
      "source": [
        "import numpy as np\n",
        "import pandas as pd\n",
        "\n",
        "import matplotlib.pyplot as plt\n",
        "import geopandas as gpd\n",
        "from shapely.geometry import Point, Polygon\n",
        "from shapely import wkt\n",
        "import seaborn as sns\n",
        "import plotly.express as px\n",
        "from pandas.plotting import scatter_matrix\n",
        "\n",
        "import math\n",
        "import folium\n",
        "from folium import Choropleth, Circle, Marker\n",
        "from folium.plugins import HeatMap, MarkerCluster\n",
        "\n",
        "import warnings\n",
        "warnings.simplefilter('ignore')\n",
        "elec_type_colors = ['green', 'gold']"
      ],
      "metadata": {
        "execution": {
          "iopub.status.busy": "2024-11-19T01:50:23.229175Z",
          "iopub.execute_input": "2024-11-19T01:50:23.22954Z",
          "iopub.status.idle": "2024-11-19T01:50:27.77367Z",
          "shell.execute_reply.started": "2024-11-19T01:50:23.229504Z",
          "shell.execute_reply": "2024-11-19T01:50:27.772552Z"
        },
        "trusted": true,
        "id": "Kl_RD5G7JVgA"
      },
      "outputs": [],
      "execution_count": null
    },
    {
      "cell_type": "code",
      "source": [
        "df_full = pd.read_csv('/kaggle/input/electric-vhicule-population-data/Electric_Vehicle_Population_Data.csv', index_col='DOL Vehicle ID')\n",
        "df_full.head(2)"
      ],
      "metadata": {
        "execution": {
          "iopub.status.busy": "2024-11-19T01:50:27.775798Z",
          "iopub.execute_input": "2024-11-19T01:50:27.776508Z",
          "iopub.status.idle": "2024-11-19T01:50:29.004712Z",
          "shell.execute_reply.started": "2024-11-19T01:50:27.776458Z",
          "shell.execute_reply": "2024-11-19T01:50:29.003554Z"
        },
        "trusted": true,
        "id": "vTZYa8xQJVgA"
      },
      "outputs": [],
      "execution_count": null
    },
    {
      "cell_type": "code",
      "source": [
        "print(f'The dataset shows that there have been {df_full.shape[0]} EV registered in the state of Washigton in the period covered.')"
      ],
      "metadata": {
        "execution": {
          "iopub.status.busy": "2024-11-19T01:50:29.006065Z",
          "iopub.execute_input": "2024-11-19T01:50:29.006471Z",
          "iopub.status.idle": "2024-11-19T01:50:29.012739Z",
          "shell.execute_reply.started": "2024-11-19T01:50:29.006424Z",
          "shell.execute_reply": "2024-11-19T01:50:29.011598Z"
        },
        "trusted": true,
        "id": "PN6f0mevJVgB"
      },
      "outputs": [],
      "execution_count": null
    },
    {
      "cell_type": "code",
      "source": [
        "print(f\"The car model years span a period from {df_full['Model Year'].min()} to {df_full['Model Year'].max()}\")"
      ],
      "metadata": {
        "execution": {
          "iopub.status.busy": "2024-11-19T01:50:29.015721Z",
          "iopub.execute_input": "2024-11-19T01:50:29.016151Z",
          "iopub.status.idle": "2024-11-19T01:50:29.038884Z",
          "shell.execute_reply.started": "2024-11-19T01:50:29.016107Z",
          "shell.execute_reply": "2024-11-19T01:50:29.037532Z"
        },
        "trusted": true,
        "id": "NObgByZUJVgB"
      },
      "outputs": [],
      "execution_count": null
    },
    {
      "cell_type": "markdown",
      "source": [
        "## <p style= \"font-family: Calibri; font-weight:bold; letter-spacing: 0px; color: yellow; border-radius:5px; font-size:120%; text-align:left;padding:3.0px; background: #3da859 ; border-bottom: 4px solid yellow; border-top: 4px solid k\" > 2.2 Cleaning </p>\n",
        "\n",
        "\n",
        "We will use short descriptive for both Electric Type and Clean Alternative Fuel Vehicle (CAFV) Eligibility.\n",
        "\n",
        "    'Eligibility unknown as battery range has not been researched': 'not_verified_yet',\n",
        "    'Clean Alternative Fuel Vehicle Eligible' : 'eligible',\n",
        "    'Not eligible due to low battery range' : 'not eligible\n"
      ],
      "metadata": {
        "id": "lUEo88eyJVgC"
      }
    },
    {
      "cell_type": "code",
      "source": [
        "df_full.isna().sum().to_frame('number of NaN').style.bar(cmap='Reds')"
      ],
      "metadata": {
        "execution": {
          "iopub.status.busy": "2024-11-19T01:50:29.040236Z",
          "iopub.execute_input": "2024-11-19T01:50:29.040589Z",
          "iopub.status.idle": "2024-11-19T01:50:29.199302Z",
          "shell.execute_reply.started": "2024-11-19T01:50:29.040553Z",
          "shell.execute_reply": "2024-11-19T01:50:29.198118Z"
        },
        "trusted": true,
        "id": "AiSUNSrXJVgC"
      },
      "outputs": [],
      "execution_count": null
    },
    {
      "cell_type": "code",
      "source": [
        "df_full['Legislative District'] = df_full['Legislative District'].map(lambda x: str(x).split('.')[0])"
      ],
      "metadata": {
        "execution": {
          "iopub.status.busy": "2024-11-19T01:50:29.201019Z",
          "iopub.execute_input": "2024-11-19T01:50:29.201309Z",
          "iopub.status.idle": "2024-11-19T01:50:29.325793Z",
          "shell.execute_reply.started": "2024-11-19T01:50:29.20128Z",
          "shell.execute_reply": "2024-11-19T01:50:29.324638Z"
        },
        "trusted": true,
        "id": "Ix7PZxz9JVgD"
      },
      "outputs": [],
      "execution_count": null
    },
    {
      "cell_type": "code",
      "source": [
        "df_full['Vehicle Location'] = df_full['Vehicle Location'].fillna(method='ffill')"
      ],
      "metadata": {
        "execution": {
          "iopub.status.busy": "2024-11-19T01:50:29.327165Z",
          "iopub.execute_input": "2024-11-19T01:50:29.327489Z",
          "iopub.status.idle": "2024-11-19T01:50:29.358699Z",
          "shell.execute_reply.started": "2024-11-19T01:50:29.327459Z",
          "shell.execute_reply": "2024-11-19T01:50:29.357741Z"
        },
        "trusted": true,
        "id": "Li2GbSgVJVgD"
      },
      "outputs": [],
      "execution_count": null
    },
    {
      "cell_type": "markdown",
      "source": [
        "The majority of the missing information, 442, is on Legislative District. This column will not be needed in this project. However, the missing values can be filled as shown below."
      ],
      "metadata": {
        "id": "mf48d2QpJVgE"
      }
    },
    {
      "cell_type": "code",
      "source": [
        "# Rename the values for Electric Vehicle Type\n",
        "df_full['Electric Vehicle Type'] = df_full.iloc[:, 8].map(lambda x: 'PHEV' if 'PHEV' in x else 'BEV')\n",
        "\n",
        "# Rename the values for Clean Alternative Fuel Vehicle (CAFV) Eligibility\n",
        "CAFV_dico = {\n",
        "    'Eligibility unknown as battery range has not been researched': 'not_verified_yet',\n",
        "    'Clean Alternative Fuel Vehicle Eligible' : 'eligible',\n",
        "    'Not eligible due to low battery range' : 'not eligible'\n",
        "}\n",
        "\n",
        "df_full['Clean Alternative Fuel Vehicle (CAFV) Eligibility'] = df_full['Clean Alternative Fuel Vehicle (CAFV) Eligibility'].map(CAFV_dico)"
      ],
      "metadata": {
        "execution": {
          "iopub.status.busy": "2024-11-19T01:50:29.359834Z",
          "iopub.execute_input": "2024-11-19T01:50:29.360136Z",
          "iopub.status.idle": "2024-11-19T01:50:29.421741Z",
          "shell.execute_reply.started": "2024-11-19T01:50:29.360107Z",
          "shell.execute_reply": "2024-11-19T01:50:29.420752Z"
        },
        "trusted": true,
        "id": "BtBWPHE_JVgE"
      },
      "outputs": [],
      "execution_count": null
    },
    {
      "cell_type": "markdown",
      "source": [
        "# <p style= \"font-family: Calibri; font-weight:bold; letter-spacing: 0px; color: yellow; border-radius:5px; font-size:120%; text-align:left;padding:3.0px; background: #3da859 ; border-bottom: 4px solid yellow; border-top: 4px solid k\" > 3. Dataset Inspection and Cleaning</p>"
      ],
      "metadata": {
        "id": "8HDDDE-9JVgF"
      }
    },
    {
      "cell_type": "markdown",
      "source": [
        "## <p style= \"font-family: Calibri; font-weight:bold; letter-spacing: 0px; color: yellow; border-radius:5px; font-size:120%; text-align:left;padding:3.0px; background: #3da859 ; border-bottom: 4px solid yellow; border-top: 4px solid k\" > 3.1 Inspection </p>"
      ],
      "metadata": {
        "id": "tXHIcxBwJVgF"
      }
    },
    {
      "cell_type": "code",
      "source": [
        "df_full.info()"
      ],
      "metadata": {
        "_kg_hide-input": true,
        "_kg_hide-output": true,
        "execution": {
          "iopub.status.busy": "2024-11-19T01:50:29.423328Z",
          "iopub.execute_input": "2024-11-19T01:50:29.424282Z",
          "iopub.status.idle": "2024-11-19T01:50:29.565579Z",
          "shell.execute_reply.started": "2024-11-19T01:50:29.42423Z",
          "shell.execute_reply": "2024-11-19T01:50:29.564533Z"
        },
        "trusted": true,
        "id": "IY5EljDLJVgF"
      },
      "outputs": [],
      "execution_count": null
    },
    {
      "cell_type": "code",
      "source": [
        "\n",
        "plt.figure(figsize=(12, 5))\n",
        "sns.boxplot(df_full, y='Electric Range', x='Model Year')\n",
        "plt.xticks(rotation=90)\n",
        "plt.show()"
      ],
      "metadata": {
        "execution": {
          "iopub.status.busy": "2024-11-19T01:50:29.572436Z",
          "iopub.execute_input": "2024-11-19T01:50:29.57324Z",
          "iopub.status.idle": "2024-11-19T01:50:30.263488Z",
          "shell.execute_reply.started": "2024-11-19T01:50:29.573187Z",
          "shell.execute_reply": "2024-11-19T01:50:30.262362Z"
        },
        "trusted": true,
        "id": "UVpx7MGxJVgF"
      },
      "outputs": [],
      "execution_count": null
    },
    {
      "cell_type": "markdown",
      "source": [
        "The obseravtions here is contrary to my expectations.\n",
        "* The electric range of the cars kept increasing over the yeras and topped in 2020. It the started decreasing. Which does not align with technology and innovation."
      ],
      "metadata": {
        "id": "1JBNDf0ZJVgF"
      }
    },
    {
      "cell_type": "code",
      "source": [
        "\n",
        "for e, EV_Type in enumerate(['PHEV', 'BEV'], start=1):\n",
        "    plt.figure(figsize=(12, 5))\n",
        "    plt.subplot(2, 1, e)\n",
        "    sns.boxenplot(df_full[df_full['Electric Vehicle Type']==EV_Type], y='Electric Range', x='Make')\n",
        "    plt.xticks(rotation=90)\n",
        "    plt.title(f'Electric Range by Car Make for {EV_Type}')\n",
        "    plt.show()"
      ],
      "metadata": {
        "execution": {
          "iopub.status.busy": "2024-11-19T01:50:30.264744Z",
          "iopub.execute_input": "2024-11-19T01:50:30.265057Z",
          "iopub.status.idle": "2024-11-19T01:50:31.535589Z",
          "shell.execute_reply.started": "2024-11-19T01:50:30.265024Z",
          "shell.execute_reply": "2024-11-19T01:50:31.534282Z"
        },
        "trusted": true,
        "id": "EtZ7LWmCJVgG"
      },
      "outputs": [],
      "execution_count": null
    },
    {
      "cell_type": "code",
      "source": [
        "df_full.describe(exclude='number').T"
      ],
      "metadata": {
        "execution": {
          "iopub.status.busy": "2024-11-19T01:50:31.536977Z",
          "iopub.execute_input": "2024-11-19T01:50:31.537303Z",
          "iopub.status.idle": "2024-11-19T01:50:31.961019Z",
          "shell.execute_reply.started": "2024-11-19T01:50:31.537271Z",
          "shell.execute_reply": "2024-11-19T01:50:31.959868Z"
        },
        "trusted": true,
        "id": "fHZmT8yLJVgG"
      },
      "outputs": [],
      "execution_count": null
    },
    {
      "cell_type": "markdown",
      "source": [
        "## What comes out of the data description\n",
        "\n",
        "### Geographical\n",
        "* There are 45 US states in the report,\n",
        "* There are 205 counties,\n",
        "* There are 770 cities,\n",
        "* Only 74 electric utilities. Which is less than one for every ten cities on average.\n",
        "\n",
        "### Makes and Models\n",
        "* There are 42 makes,\n",
        "* There are 152 models.\n"
      ],
      "metadata": {
        "id": "GWWq9YRiJVgG"
      }
    },
    {
      "cell_type": "code",
      "source": [],
      "metadata": {
        "trusted": true,
        "id": "eJBhgBIdJVgG"
      },
      "outputs": [],
      "execution_count": null
    },
    {
      "cell_type": "markdown",
      "source": [
        "# <p style= \"font-family: Calibri; font-weight:bold; letter-spacing: 0px; color: yellow; border-radius:5px; font-size:120%; text-align:left;padding:3.0px; background: #3da859 ; border-bottom: 4px solid yellow; border-top: 4px solid k\" > 4. EDA of all the EVs </p>\n",
        "\n",
        "\n",
        "## <p style= \"font-family: Calibri; font-weight:bold; letter-spacing: 0px; color: yellow; border-radius:5px; font-size:120%; text-align:left;padding:3.0px; background: #3da859 ; border-bottom: 4px solid yellow; border-top: 4px solid k\" > 4.1 Counting </p>"
      ],
      "metadata": {
        "id": "zcEpZ62UJVgG"
      }
    },
    {
      "cell_type": "code",
      "source": [
        "count_EV_types = df_full['Electric Vehicle Type'].value_counts()\n",
        "\n",
        "count_EV_types.to_frame(name='Vehicle by EV Type').style.bar(cmap='Greens')"
      ],
      "metadata": {
        "execution": {
          "iopub.status.busy": "2024-11-19T01:50:31.96252Z",
          "iopub.execute_input": "2024-11-19T01:50:31.963133Z",
          "iopub.status.idle": "2024-11-19T01:50:31.994452Z",
          "shell.execute_reply.started": "2024-11-19T01:50:31.96308Z",
          "shell.execute_reply": "2024-11-19T01:50:31.99327Z"
        },
        "trusted": true,
        "id": "jsbXaT6cJVgG"
      },
      "outputs": [],
      "execution_count": null
    },
    {
      "cell_type": "code",
      "source": [
        "plt.figure(figsize=(10, 4))\n",
        "plt.subplot(1,2,1)\n",
        "count_EV_types.plot.pie(autopct='%.2f%%', radius=1.3,\n",
        "                        explode=[0.1, 0.05],colors=elec_type_colors,\n",
        "                        pctdistance=0.5, labeldistance=0.7)\n",
        "plt.ylabel('')\n",
        "plt.subplot(1,2,2)\n",
        "ax = sns.countplot(df_full, x='Electric Vehicle Type', palette=['gold', 'green'])\n",
        "for count in ax.containers:\n",
        "    ax.bar_label(count)\n",
        "plt.yticks([])\n",
        "plt.suptitle('Count by electric type in the USA', fontsize=18)\n",
        "plt.show()"
      ],
      "metadata": {
        "execution": {
          "iopub.status.busy": "2024-11-19T01:50:31.996098Z",
          "iopub.execute_input": "2024-11-19T01:50:31.996524Z",
          "iopub.status.idle": "2024-11-19T01:50:32.344617Z",
          "shell.execute_reply.started": "2024-11-19T01:50:31.996477Z",
          "shell.execute_reply": "2024-11-19T01:50:32.34371Z"
        },
        "trusted": true,
        "id": "ecQQ96WZJVgH"
      },
      "outputs": [],
      "execution_count": null
    },
    {
      "cell_type": "markdown",
      "source": [
        "Battery Electric Vehicles(BEV) are more popular than Plug_in Hybrid Electric Vehicles(PHEV). In subsequent steps they will be refered to as: BEV and PHEV."
      ],
      "metadata": {
        "id": "D94_RDpFJVgH"
      }
    },
    {
      "cell_type": "code",
      "source": [
        "df_full['Clean Alternative Fuel Vehicle (CAFV) Eligibility'].value_counts(normalize=True).to_frame()\n",
        "\n",
        "cafv_s = df_full['Clean Alternative Fuel Vehicle (CAFV) Eligibility']\n",
        "cafv_counts = cafv_s.value_counts().to_frame()#.style.bar(cmap='Greens')\n",
        "cafv_counts['%tage'] = cafv_s.value_counts(normalize=True)*100\n",
        "cafv_counts.style.background_gradient(cmap='Greens', axis=0)\n",
        "\n",
        "cafv_counts"
      ],
      "metadata": {
        "scrolled": true,
        "execution": {
          "iopub.status.busy": "2024-11-19T01:50:32.345781Z",
          "iopub.execute_input": "2024-11-19T01:50:32.346206Z",
          "iopub.status.idle": "2024-11-19T01:50:32.399439Z",
          "shell.execute_reply.started": "2024-11-19T01:50:32.346159Z",
          "shell.execute_reply": "2024-11-19T01:50:32.398389Z"
        },
        "trusted": true,
        "id": "Voi2_8CxJVgH"
      },
      "outputs": [],
      "execution_count": null
    },
    {
      "cell_type": "code",
      "source": [
        "plt.figure(figsize=(10, 4))\n",
        "plt.subplot(1,2,1)\n",
        "cafv_counts['count'].plot.pie(autopct='%.2f%%', radius=1.3,\n",
        "                        colors=['lightgrey', 'grey', 'white'],\n",
        "                        pctdistance=0.5, labeldistance=0.7)\n",
        "plt.ylabel('')\n",
        "plt.subplot(1,2,2)\n",
        "ax = sns.countplot(df_full, x='Clean Alternative Fuel Vehicle (CAFV) Eligibility', palette='gray')\n",
        "for count in ax.containers:\n",
        "    ax.bar_label(count)\n",
        "plt.yticks([])\n",
        "plt.xlabel('CAFV')\n",
        "plt.suptitle('Count of CAFV in the USA', fontsize=18)\n",
        "plt.show()"
      ],
      "metadata": {
        "execution": {
          "iopub.status.busy": "2024-11-19T01:50:32.40059Z",
          "iopub.execute_input": "2024-11-19T01:50:32.401027Z",
          "iopub.status.idle": "2024-11-19T01:50:32.706601Z",
          "shell.execute_reply.started": "2024-11-19T01:50:32.400981Z",
          "shell.execute_reply": "2024-11-19T01:50:32.705385Z"
        },
        "trusted": true,
        "id": "LfA2vadGJVgH"
      },
      "outputs": [],
      "execution_count": null
    },
    {
      "cell_type": "markdown",
      "source": [
        "34 % of the vehicles are eligible for alternative fuel, while 10 % are not."
      ],
      "metadata": {
        "id": "ub7yVoaIJVgI"
      }
    },
    {
      "cell_type": "markdown",
      "source": [
        "## <p style= \"font-family: Calibri; font-weight:bold; letter-spacing: 0px; color: yellow; border-radius:5px; font-size:120%; text-align:left;padding:3.0px; background: #3da859 ; border-bottom: 4px solid yellow; border-top: 4px solid k\" > 4.2 Mapping </p>"
      ],
      "metadata": {
        "id": "oF-1gVGEJVgI"
      }
    },
    {
      "cell_type": "code",
      "source": [
        "world_filepath = gpd.datasets.get_path('naturalearth_lowres')\n",
        "world = gpd.read_file(world_filepath)\n",
        "USA = world.loc[world['iso_a3']=='USA']"
      ],
      "metadata": {
        "execution": {
          "iopub.status.busy": "2024-11-19T01:50:32.70817Z",
          "iopub.execute_input": "2024-11-19T01:50:32.708972Z",
          "iopub.status.idle": "2024-11-19T01:50:33.624874Z",
          "shell.execute_reply.started": "2024-11-19T01:50:32.708919Z",
          "shell.execute_reply": "2024-11-19T01:50:33.623849Z"
        },
        "trusted": true,
        "id": "rq7LYWmgJVgJ"
      },
      "outputs": [],
      "execution_count": null
    },
    {
      "cell_type": "code",
      "source": [
        "# Convert the WKT strings to geometry\n",
        "gdf_full = df_full.copy()\n",
        "gdf_full['Vehicle Location'] = gdf_full['Vehicle Location'].apply(lambda x: str(x)).apply(wkt.loads)\n",
        "\n",
        "# Convert the DataFrame to a GeoDataFrame\n",
        "gdf_full = gpd.GeoDataFrame(gdf_full, geometry='Vehicle Location', crs='EPSG:32630')"
      ],
      "metadata": {
        "execution": {
          "iopub.status.busy": "2024-11-19T01:50:33.626136Z",
          "iopub.execute_input": "2024-11-19T01:50:33.626446Z",
          "iopub.status.idle": "2024-11-19T01:50:41.851278Z",
          "shell.execute_reply.started": "2024-11-19T01:50:33.626416Z",
          "shell.execute_reply": "2024-11-19T01:50:41.850375Z"
        },
        "trusted": true,
        "id": "ytQFIYA9JVgJ"
      },
      "outputs": [],
      "execution_count": null
    },
    {
      "cell_type": "code",
      "source": [
        "red_square = Polygon([(-115.5,  50), (-115.5, 44), (-126, 44), (-126, 50)])\n",
        "poly_gdf = gpd.GeoDataFrame(geometry=[red_square], crs=world.crs)"
      ],
      "metadata": {
        "execution": {
          "iopub.status.busy": "2024-11-19T01:50:41.852518Z",
          "iopub.execute_input": "2024-11-19T01:50:41.853181Z",
          "iopub.status.idle": "2024-11-19T01:50:41.862031Z",
          "shell.execute_reply.started": "2024-11-19T01:50:41.853131Z",
          "shell.execute_reply": "2024-11-19T01:50:41.860827Z"
        },
        "trusted": true,
        "id": "CvpRnGp-JVgJ"
      },
      "outputs": [],
      "execution_count": null
    },
    {
      "cell_type": "code",
      "source": [
        "gdf_full['lon'] = gdf_full['Vehicle Location'].apply(lambda p: p.x)\n",
        "gdf_full['lat'] = gdf_full['Vehicle Location'].apply(lambda p: p.y)\n",
        "\n",
        "gdf_full[['lon', 'lat']].head()"
      ],
      "metadata": {
        "execution": {
          "iopub.status.busy": "2024-11-19T01:50:41.863796Z",
          "iopub.execute_input": "2024-11-19T01:50:41.864152Z",
          "iopub.status.idle": "2024-11-19T01:50:46.579696Z",
          "shell.execute_reply.started": "2024-11-19T01:50:41.864118Z",
          "shell.execute_reply": "2024-11-19T01:50:46.578507Z"
        },
        "trusted": true,
        "id": "JdB1Sn95JVgJ"
      },
      "outputs": [],
      "execution_count": null
    },
    {
      "cell_type": "code",
      "source": [
        "# Create the map\n",
        "map_usa = folium.Map(location=[39.5, -99.7], tiles='cartodbpositron', zoom_start=4.4)\n",
        "\n",
        "# Add points to the map\n",
        "mc = MarkerCluster()\n",
        "for idx, row in gdf_full.iterrows():\n",
        "    if not math.isnan(row['lon']) and not math.isnan(row['lat']):\n",
        "        mc.add_child(Marker([row['lat'], row['lon']]))\n",
        "map_usa.add_child(mc)\n",
        "\n",
        "# Display the map\n",
        "map_usa"
      ],
      "metadata": {
        "execution": {
          "iopub.status.busy": "2024-11-19T01:50:46.580896Z",
          "iopub.execute_input": "2024-11-19T01:50:46.58122Z",
          "iopub.status.idle": "2024-11-19T01:52:45.568314Z",
          "shell.execute_reply.started": "2024-11-19T01:50:46.581174Z",
          "shell.execute_reply": "2024-11-19T01:52:45.566512Z"
        },
        "trusted": true,
        "id": "np4Tbg0hJVgJ"
      },
      "outputs": [],
      "execution_count": null
    },
    {
      "cell_type": "code",
      "source": [
        "# Create the map\n",
        "map_usa = folium.Map(location=[39.5, -99.7], tiles='cartodbpositron', zoom_start=4.4)\n",
        "\n",
        "# Set of EVs that left the state of WA\n",
        "gdf_left = gdf_full[gdf_full['State']!='WA']\n",
        "\n",
        "def color_scheem(val):\n",
        "    if val == 'BEV':\n",
        "        return 'green'\n",
        "    else:\n",
        "        return 'yellow'\n",
        "\n",
        "for i in range(0, len(gdf_left)):\n",
        "    folium.Circle(\n",
        "        location= (gdf_left.iloc[i]['lat'], gdf_left.iloc[i]['lon']),\n",
        "        radius=4000,\n",
        "        color=color_scheem(gdf_left.iloc[i]['Electric Vehicle Type'])\n",
        "    ).add_to(map_usa)\n",
        "\n",
        "# Diplay th map\n",
        "map_usa"
      ],
      "metadata": {
        "execution": {
          "iopub.status.busy": "2024-11-19T01:52:45.570583Z",
          "iopub.execute_input": "2024-11-19T01:52:45.571115Z",
          "iopub.status.idle": "2024-11-19T01:52:45.981364Z",
          "shell.execute_reply.started": "2024-11-19T01:52:45.571048Z",
          "shell.execute_reply": "2024-11-19T01:52:45.980292Z"
        },
        "trusted": true,
        "id": "qAU8QMYLJVgK"
      },
      "outputs": [],
      "execution_count": null
    },
    {
      "cell_type": "markdown",
      "source": [
        "### How many EVs left the state of Washington"
      ],
      "metadata": {
        "id": "9C2XhVeNJVgO"
      }
    },
    {
      "cell_type": "code",
      "source": [
        "df_full['WA_vs_Other'] = df_full['State'].apply(lambda x: 'stayed in WA' if x=='WA' else 'left WA')\n",
        "\n",
        "df_full['WA_vs_Other'].value_counts().plot.pie(radius=1.3,explode=[0.6, 0.6], colors=['green', 'maroon'], pctdistance=0.5, labeldistance=0.7)\n",
        "plt.axis('off')\n",
        "plt.title('Counts: WA vs left WA', fontsize=18)\n",
        "plt.show()"
      ],
      "metadata": {
        "execution": {
          "iopub.status.busy": "2024-11-19T01:52:45.982684Z",
          "iopub.execute_input": "2024-11-19T01:52:45.983007Z",
          "iopub.status.idle": "2024-11-19T01:52:46.156148Z",
          "shell.execute_reply.started": "2024-11-19T01:52:45.982975Z",
          "shell.execute_reply": "2024-11-19T01:52:46.155101Z"
        },
        "trusted": true,
        "id": "fGMOVh70JVgO"
      },
      "outputs": [],
      "execution_count": null
    },
    {
      "cell_type": "code",
      "source": [
        "# Set of the cars that left the state\n",
        "df_left = df_full[df_full['State']!='WA']\n",
        "print('{} EVs left the state of Washington to other states. This is just about {:.3f} % of the EVs registered there.'.format(df_left.shape[0], 100*df_left.shape[0]/df_full.shape[0]))"
      ],
      "metadata": {
        "execution": {
          "iopub.status.busy": "2024-11-19T01:52:46.157378Z",
          "iopub.execute_input": "2024-11-19T01:52:46.157831Z",
          "iopub.status.idle": "2024-11-19T01:52:46.203121Z",
          "shell.execute_reply.started": "2024-11-19T01:52:46.157775Z",
          "shell.execute_reply": "2024-11-19T01:52:46.201908Z"
        },
        "trusted": true,
        "id": "mx6d7L-1JVgP"
      },
      "outputs": [],
      "execution_count": null
    },
    {
      "cell_type": "markdown",
      "source": [
        "### How many for each state"
      ],
      "metadata": {
        "id": "DG7Wb4sLJVgP"
      }
    },
    {
      "cell_type": "code",
      "source": [
        "df_left['State'].value_counts().plot.bar(figsize=(12,5), color='darkgreen',\n",
        "                                         title='Counts of cars that left the state of washington')\n",
        "plt.show()"
      ],
      "metadata": {
        "execution": {
          "iopub.status.busy": "2024-11-19T01:52:46.205049Z",
          "iopub.execute_input": "2024-11-19T01:52:46.205501Z",
          "iopub.status.idle": "2024-11-19T01:52:46.668767Z",
          "shell.execute_reply.started": "2024-11-19T01:52:46.205455Z",
          "shell.execute_reply": "2024-11-19T01:52:46.667632Z"
        },
        "trusted": true,
        "id": "TW_l4nUgJVgP"
      },
      "outputs": [],
      "execution_count": null
    },
    {
      "cell_type": "markdown",
      "source": [
        "California, despite having less than 120 cars, is the state that received most of the cars that left the state of registration.  "
      ],
      "metadata": {
        "id": "JlHG-pKiJVgP"
      }
    },
    {
      "cell_type": "code",
      "source": [
        "df_left['State'].value_counts(normalize=True).to_frame().head(10).style.background_gradient(cmap='YlGn')"
      ],
      "metadata": {
        "execution": {
          "iopub.status.busy": "2024-11-19T01:52:46.670077Z",
          "iopub.execute_input": "2024-11-19T01:52:46.670367Z",
          "iopub.status.idle": "2024-11-19T01:52:46.684306Z",
          "shell.execute_reply.started": "2024-11-19T01:52:46.670339Z",
          "shell.execute_reply": "2024-11-19T01:52:46.683244Z"
        },
        "trusted": true,
        "id": "vbx7vSo4JVgQ"
      },
      "outputs": [],
      "execution_count": null
    },
    {
      "cell_type": "markdown",
      "source": [
        "### 26.24 % of those EVs wen to California, 13.12 % to Virginia"
      ],
      "metadata": {
        "id": "dWpmBpXaJVgQ"
      }
    },
    {
      "cell_type": "code",
      "source": [
        "ax_1 = USA.plot(figsize=(18, 6), color='grey')\n",
        "gdf_full['Vehicle Location'].plot(color='yellow', ax=ax_1, markersize=8, edgecolor='green')\n",
        "poly_gdf.boundary.plot(ax=ax_1, color='maroon', linestyle=':')\n",
        "plt.axis('off')\n",
        "plt.title('Presence of electric Vehicles across the USA', fontsize=10)\n",
        "plt.show()\n",
        "\n",
        "print('The area in the red box account for more than 99% of the electric cars in this dataset')"
      ],
      "metadata": {
        "execution": {
          "iopub.status.busy": "2024-11-19T01:52:46.685906Z",
          "iopub.execute_input": "2024-11-19T01:52:46.686274Z",
          "iopub.status.idle": "2024-11-19T01:52:56.639569Z",
          "shell.execute_reply.started": "2024-11-19T01:52:46.686241Z",
          "shell.execute_reply": "2024-11-19T01:52:56.638484Z"
        },
        "trusted": true,
        "id": "WOPWx2qRJVgQ"
      },
      "outputs": [],
      "execution_count": null
    },
    {
      "cell_type": "markdown",
      "source": [
        "# <p style= \"font-family: Calibri; font-weight:bold; letter-spacing: 0px; color: yellow; border-radius:5px; font-size:120%; text-align:left;padding:3.0px; background: #3da859 ; border-bottom: 4px solid yellow; border-top: 4px solid k\" > 4. Washington State is our Concern  </p>\n",
        "\n",
        "### Let's create a Washington only dataset."
      ],
      "metadata": {
        "id": "pMMobAQXJVgQ"
      }
    },
    {
      "cell_type": "code",
      "source": [
        "# Filter the dataset to keep only data from Washington state\n",
        "df_WA = df_full.query(\"State in ['WA']\")\n",
        "gdf_WA = gdf_full[gdf_full['State']=='WA']"
      ],
      "metadata": {
        "execution": {
          "iopub.status.busy": "2024-11-19T01:52:56.644979Z",
          "iopub.execute_input": "2024-11-19T01:52:56.645339Z",
          "iopub.status.idle": "2024-11-19T01:52:56.762006Z",
          "shell.execute_reply.started": "2024-11-19T01:52:56.645302Z",
          "shell.execute_reply": "2024-11-19T01:52:56.760906Z"
        },
        "trusted": true,
        "id": "507bb0LSJVgR"
      },
      "outputs": [],
      "execution_count": null
    },
    {
      "cell_type": "markdown",
      "source": [
        "## <p style= \"font-family: Calibri; font-weight:bold; letter-spacing: 0px; color: yellow; border-radius:5px; font-size:120%; text-align:left;padding:3.0px; background: #3da859 ; border-bottom: 4px solid yellow; border-top: 4px solid k\" > 4.1 Gross Counts of EV that stayed in Washington state</p>"
      ],
      "metadata": {
        "id": "LXcvIentJVgR"
      }
    },
    {
      "cell_type": "code",
      "source": [
        "# Number of Electric Cars in Washington State\n",
        "\n",
        "print(f'There are {df_WA.shape[0]} electric cars reported in WA state')"
      ],
      "metadata": {
        "execution": {
          "iopub.status.busy": "2024-11-19T01:52:56.763294Z",
          "iopub.execute_input": "2024-11-19T01:52:56.763622Z",
          "iopub.status.idle": "2024-11-19T01:52:56.768856Z",
          "shell.execute_reply.started": "2024-11-19T01:52:56.763589Z",
          "shell.execute_reply": "2024-11-19T01:52:56.767826Z"
        },
        "trusted": true,
        "id": "cSxmtwVyJVgR"
      },
      "outputs": [],
      "execution_count": null
    },
    {
      "cell_type": "code",
      "source": [
        "# Number of Electric Utilities in Washington State\n",
        "count_electriv_otilities = df_WA['Electric Utility'].nunique()\n",
        "print(f'There are {count_electriv_otilities} electric utilities reported in WA state')"
      ],
      "metadata": {
        "_kg_hide-input": true,
        "execution": {
          "iopub.status.busy": "2024-11-19T01:52:56.770116Z",
          "iopub.execute_input": "2024-11-19T01:52:56.770429Z",
          "iopub.status.idle": "2024-11-19T01:52:56.811408Z",
          "shell.execute_reply.started": "2024-11-19T01:52:56.770396Z",
          "shell.execute_reply": "2024-11-19T01:52:56.810218Z"
        },
        "trusted": true,
        "id": "kE3RLCkPJVgR"
      },
      "outputs": [],
      "execution_count": null
    },
    {
      "cell_type": "code",
      "source": [
        "# Number of Electric Utilities in Washington State\n",
        "count_counties = df_WA['County'].nunique()\n",
        "print(f'There are {count_counties} counties with electric cars reported in WA state')"
      ],
      "metadata": {
        "_kg_hide-input": true,
        "execution": {
          "iopub.status.busy": "2024-11-19T01:52:56.812631Z",
          "iopub.execute_input": "2024-11-19T01:52:56.812961Z",
          "iopub.status.idle": "2024-11-19T01:52:56.831109Z",
          "shell.execute_reply.started": "2024-11-19T01:52:56.81293Z",
          "shell.execute_reply": "2024-11-19T01:52:56.830069Z"
        },
        "trusted": true,
        "id": "F6nSVi2PJVgT"
      },
      "outputs": [],
      "execution_count": null
    },
    {
      "cell_type": "code",
      "source": [
        "# Number of Electric Utilities in Washington State\n",
        "count_cities = df_WA['City'].nunique()\n",
        "print(f'There are {count_cities} cities with electric cars reported in WA state')"
      ],
      "metadata": {
        "_kg_hide-input": true,
        "execution": {
          "iopub.status.busy": "2024-11-19T01:52:56.832404Z",
          "iopub.execute_input": "2024-11-19T01:52:56.833032Z",
          "iopub.status.idle": "2024-11-19T01:52:56.857368Z",
          "shell.execute_reply.started": "2024-11-19T01:52:56.832985Z",
          "shell.execute_reply": "2024-11-19T01:52:56.85585Z"
        },
        "trusted": true,
        "id": "F27RQq-vJVgT"
      },
      "outputs": [],
      "execution_count": null
    },
    {
      "cell_type": "code",
      "source": [
        "# Number of Electric Utilities in Washington State\n",
        "count_makes = df_WA['Make'].nunique()\n",
        "print(f'There are {count_makes} makes of electric cars reported in WA state')"
      ],
      "metadata": {
        "_kg_hide-input": true,
        "execution": {
          "iopub.status.busy": "2024-11-19T01:52:56.859192Z",
          "iopub.execute_input": "2024-11-19T01:52:56.859615Z",
          "iopub.status.idle": "2024-11-19T01:52:56.879528Z",
          "shell.execute_reply.started": "2024-11-19T01:52:56.859568Z",
          "shell.execute_reply": "2024-11-19T01:52:56.878312Z"
        },
        "trusted": true,
        "id": "RVoE_COrJVgT"
      },
      "outputs": [],
      "execution_count": null
    },
    {
      "cell_type": "code",
      "source": [
        "# Number of Electric Utilities in Washington State\n",
        "count_model = df_WA['Model'].nunique()\n",
        "print(f'There are {count_model} models of electric cars reported in WA state')"
      ],
      "metadata": {
        "_kg_hide-input": true,
        "execution": {
          "iopub.status.busy": "2024-11-19T01:52:56.880851Z",
          "iopub.execute_input": "2024-11-19T01:52:56.881306Z",
          "iopub.status.idle": "2024-11-19T01:52:56.89864Z",
          "shell.execute_reply.started": "2024-11-19T01:52:56.881258Z",
          "shell.execute_reply": "2024-11-19T01:52:56.897246Z"
        },
        "trusted": true,
        "id": "ezxI53ZDJVgT"
      },
      "outputs": [],
      "execution_count": null
    },
    {
      "cell_type": "code",
      "source": [
        "# Number of Electric Utilities in Washington State\n",
        "count_postal_codes = df_WA['Postal Code'].nunique()\n",
        "print(f'There are {count_postal_codes} postal codes reported with electric cars in WA state')"
      ],
      "metadata": {
        "_kg_hide-input": true,
        "execution": {
          "iopub.status.busy": "2024-11-19T01:52:56.899927Z",
          "iopub.execute_input": "2024-11-19T01:52:56.900278Z",
          "iopub.status.idle": "2024-11-19T01:52:56.921031Z",
          "shell.execute_reply.started": "2024-11-19T01:52:56.900243Z",
          "shell.execute_reply": "2024-11-19T01:52:56.919768Z"
        },
        "trusted": true,
        "id": "DKWxq8wpJVgT"
      },
      "outputs": [],
      "execution_count": null
    },
    {
      "cell_type": "markdown",
      "source": [
        "## <p style= \"font-family: Calibri; font-weight:bold; letter-spacing: 0px; color: yellow; border-radius:5px; font-size:120%; text-align:left;padding:3.0px; background: #3da859 ; border-bottom: 4px solid yellow; border-top: 4px solid k\" > 4.2 Detail Counts in Washington state </p>"
      ],
      "metadata": {
        "id": "lw0PYeAnJVgT"
      }
    },
    {
      "cell_type": "markdown",
      "source": [
        "### <span style= \"font-family: Calibri; font-weight:bold; letter-spacing: 0px; color: yellow; border-radius:5px; font-size:120%; text-align:left;padding:3.0px; background: #3da859 ; border-bottom: 4px solid yellow; border-top: 4px solid k\" > 4.2.1 Count by Electric Vehicle Type </span>"
      ],
      "metadata": {
        "id": "wwBLxCI2JVgU"
      }
    },
    {
      "cell_type": "code",
      "source": [
        "count_elect_type = pd.pivot_table(df_WA, values='VIN (1-10)' ,\n",
        "                       index=['Electric Vehicle Type'],\n",
        "                       aggfunc={'count'}, fill_value=0)\n",
        "\n",
        "# Apply styling to the pivot table\n",
        "styled_count_elect_type = count_elect_type.style.format(\"{:d}\").background_gradient(cmap='YlGn', axis=0).set_caption('Count of Electric Type')\n",
        "\n",
        "# Display the styled pivot table\n",
        "styled_count_elect_type"
      ],
      "metadata": {
        "_kg_hide-input": true,
        "execution": {
          "iopub.status.busy": "2024-11-19T01:52:56.922466Z",
          "iopub.execute_input": "2024-11-19T01:52:56.923444Z",
          "iopub.status.idle": "2024-11-19T01:52:56.972801Z",
          "shell.execute_reply.started": "2024-11-19T01:52:56.923397Z",
          "shell.execute_reply": "2024-11-19T01:52:56.971614Z"
        },
        "trusted": true,
        "id": "UvE24331JVgU"
      },
      "outputs": [],
      "execution_count": null
    },
    {
      "cell_type": "code",
      "source": [
        "plt.figure(figsize=(10, 4))\n",
        "plt.subplot(1,2,1)\n",
        "count_elect_type['count'].plot.pie(autopct='%.2f%%', radius=1.3,\n",
        "                        explode=[0.1, 0.05],colors=elec_type_colors,\n",
        "                        pctdistance=0.5, labeldistance=0.7)\n",
        "plt.ylabel('')\n",
        "plt.subplot(1,2,2)\n",
        "ax = sns.countplot(df_WA, x='Electric Vehicle Type', palette=['gold', 'green'])\n",
        "for count in ax.containers:\n",
        "    ax.bar_label(count)\n",
        "plt.yticks([])\n",
        "plt.suptitle('count by electric type in Washington state', fontsize=18)\n",
        "plt.show()"
      ],
      "metadata": {
        "_kg_hide-input": true,
        "execution": {
          "iopub.status.busy": "2024-11-19T01:52:56.973991Z",
          "iopub.execute_input": "2024-11-19T01:52:56.974337Z",
          "iopub.status.idle": "2024-11-19T01:52:57.298519Z",
          "shell.execute_reply.started": "2024-11-19T01:52:56.974305Z",
          "shell.execute_reply": "2024-11-19T01:52:57.296979Z"
        },
        "trusted": true,
        "id": "3cOuT9MoJVgU"
      },
      "outputs": [],
      "execution_count": null
    },
    {
      "cell_type": "markdown",
      "source": [
        "### <span style= \"font-family: Calibri; font-weight:bold; letter-spacing: 0px; color: yellow; border-radius:5px; font-size:120%; text-align:left;padding:3.0px; background: #3da859 ; border-bottom: 4px solid yellow; border-top: 4px solid k\" > 4.2.2 Count by Model Year</span>"
      ],
      "metadata": {
        "id": "aXt6i3ZJJVgU"
      }
    },
    {
      "cell_type": "code",
      "source": [
        "table_count_model_year = pd.pivot_table(df_WA, values='VIN (1-10)' ,\n",
        "                       index=['Model Year'],\n",
        "                       aggfunc={'count'}, fill_value=0)\n",
        "\n",
        "table_count_model_year.style.bar(cmap='RdYlGn')"
      ],
      "metadata": {
        "_kg_hide-input": true,
        "execution": {
          "iopub.status.busy": "2024-11-19T01:52:57.299903Z",
          "iopub.execute_input": "2024-11-19T01:52:57.300777Z",
          "iopub.status.idle": "2024-11-19T01:52:57.347819Z",
          "shell.execute_reply.started": "2024-11-19T01:52:57.30072Z",
          "shell.execute_reply": "2024-11-19T01:52:57.346751Z"
        },
        "trusted": true,
        "id": "ujvGEQJjJVgU"
      },
      "outputs": [],
      "execution_count": null
    },
    {
      "cell_type": "code",
      "source": [
        "table_count_model_year.plot.bar(color='green', figsize=(10, 4))\n",
        "plt.title('Electric vehicle counted by year', fontsize=16)\n",
        "plt.show()"
      ],
      "metadata": {
        "_kg_hide-input": true,
        "execution": {
          "iopub.status.busy": "2024-11-19T01:52:57.349108Z",
          "iopub.execute_input": "2024-11-19T01:52:57.349413Z",
          "iopub.status.idle": "2024-11-19T01:52:57.649129Z",
          "shell.execute_reply.started": "2024-11-19T01:52:57.349382Z",
          "shell.execute_reply": "2024-11-19T01:52:57.648101Z"
        },
        "trusted": true,
        "id": "idG8xhjdJVgV"
      },
      "outputs": [],
      "execution_count": null
    },
    {
      "cell_type": "markdown",
      "source": [
        "### <span style= \"font-family: Calibri; font-weight:bold; letter-spacing: 0px; color: yellow; border-radius:5px; font-size:120%; text-align:left;padding:3.0px; background: #3da859 ; border-bottom: 4px solid yellow; border-top: 4px solid k\" > 4.2.3 Count by Model Year and Electric Type</span>"
      ],
      "metadata": {
        "id": "mvSq6cNFJVgV"
      }
    },
    {
      "cell_type": "code",
      "source": [
        "table_year_type = pd.pivot_table(df_WA, values='VIN (1-10)' ,\n",
        "                       index=['Model Year'],\n",
        "                       columns = ['Electric Vehicle Type'],\n",
        "                       aggfunc={'count'}, fill_value=0)"
      ],
      "metadata": {
        "_kg_hide-input": true,
        "execution": {
          "iopub.status.busy": "2024-11-19T01:52:57.650289Z",
          "iopub.execute_input": "2024-11-19T01:52:57.650604Z",
          "iopub.status.idle": "2024-11-19T01:52:57.704081Z",
          "shell.execute_reply.started": "2024-11-19T01:52:57.650573Z",
          "shell.execute_reply": "2024-11-19T01:52:57.702664Z"
        },
        "trusted": true,
        "id": "lU2RkSfWJVgV"
      },
      "outputs": [],
      "execution_count": null
    },
    {
      "cell_type": "code",
      "source": [
        "table_year_type.style.bar(cmap='RdYlGn')"
      ],
      "metadata": {
        "execution": {
          "iopub.status.busy": "2024-11-19T01:52:57.705294Z",
          "iopub.execute_input": "2024-11-19T01:52:57.705598Z",
          "iopub.status.idle": "2024-11-19T01:52:57.73064Z",
          "shell.execute_reply.started": "2024-11-19T01:52:57.705568Z",
          "shell.execute_reply": "2024-11-19T01:52:57.729574Z"
        },
        "trusted": true,
        "id": "uvbb7QZAJVgV"
      },
      "outputs": [],
      "execution_count": null
    },
    {
      "cell_type": "code",
      "source": [
        "table = pd.pivot_table(df_WA, values='VIN (1-10)' , columns=['Make'],\n",
        "                       index=['Model Year'], aggfunc={'count'}, fill_value=0)\n",
        "\n",
        "# Apply styling to the pivot table\n",
        "styled_table = table.style.format(\"{:d}\").background_gradient(cmap='YlGnBu', axis=1)#.set_caption('Pivot Table with Conditional Formatting')\n",
        "\n",
        "# Display the styled pivot table\n",
        "styled_table"
      ],
      "metadata": {
        "execution": {
          "iopub.status.busy": "2024-11-19T01:52:57.732146Z",
          "iopub.execute_input": "2024-11-19T01:52:57.732473Z",
          "iopub.status.idle": "2024-11-19T01:52:57.866046Z",
          "shell.execute_reply.started": "2024-11-19T01:52:57.732442Z",
          "shell.execute_reply": "2024-11-19T01:52:57.865011Z"
        },
        "trusted": true,
        "id": "BzuXjXl1JVgV"
      },
      "outputs": [],
      "execution_count": null
    },
    {
      "cell_type": "markdown",
      "source": [
        "Year 2023 has the largest number of electric cars, both BEV and PHEV."
      ],
      "metadata": {
        "id": "vwt_HEbpJVgW"
      }
    },
    {
      "cell_type": "code",
      "source": [
        "table_year_type['count'].plot.bar(color =elec_type_colors, figsize=(8, 4))\n",
        "plt.show()"
      ],
      "metadata": {
        "execution": {
          "iopub.status.busy": "2024-11-19T01:52:57.86732Z",
          "iopub.execute_input": "2024-11-19T01:52:57.867696Z",
          "iopub.status.idle": "2024-11-19T01:52:58.169383Z",
          "shell.execute_reply.started": "2024-11-19T01:52:57.867631Z",
          "shell.execute_reply": "2024-11-19T01:52:58.168237Z"
        },
        "trusted": true,
        "id": "baJZlULcJVgW"
      },
      "outputs": [],
      "execution_count": null
    },
    {
      "cell_type": "markdown",
      "source": [
        "### <span style= \"font-family: Calibri; font-weight:bold; letter-spacing: 0px; color: yellow; border-radius:5px; font-size:120%; text-align:left;padding:3.0px; background: #3da859 ; border-bottom: 4px solid yellow; border-top: 4px solid k\" > 4.2.4 Count by Make and Electric Type</span>"
      ],
      "metadata": {
        "id": "q9yryJCbJVgW"
      }
    },
    {
      "cell_type": "code",
      "source": [
        "table_make_type = pd.pivot_table(df_WA, values='VIN (1-10)' ,\n",
        "                       index=['Make'], columns = ['Electric Vehicle Type'],\n",
        "                       aggfunc={'count'}, fill_value=0)\n",
        "\n",
        "# Apply styling to the pivot table\n",
        "styled_table_make_type = table_make_type.style.format(\"{:d}\").bar(axis=0, cmap='Greens')#.set_caption('Pivot Table with Conditional Formatting')\n",
        "\n",
        "# Display the styled pivot table\n",
        "styled_table_make_type"
      ],
      "metadata": {
        "execution": {
          "iopub.status.busy": "2024-11-19T01:52:58.170867Z",
          "iopub.execute_input": "2024-11-19T01:52:58.17131Z",
          "iopub.status.idle": "2024-11-19T01:52:58.24457Z",
          "shell.execute_reply.started": "2024-11-19T01:52:58.171263Z",
          "shell.execute_reply": "2024-11-19T01:52:58.243369Z"
        },
        "trusted": true,
        "id": "qBamOjvQJVgW"
      },
      "outputs": [],
      "execution_count": null
    },
    {
      "cell_type": "code",
      "source": [
        "plt.figure(figsize=(16, 14))\n",
        "for m, Make in enumerate(table_make_type.index, start=1):\n",
        "    plt.subplot(6, 7, m)\n",
        "    pd.Series({' ': 1}).plot.pie(colors=['grey'], radius=0.2, shadow=False)\n",
        "    table_make_type.loc[Make, :]['count'].plot.pie(autopct='%.1f%%', radius=1.2, pctdistance=0.44, shadow=False,\n",
        "                                         textprops={'color':'black', 'rotation':True, 'weight':'bold', 'size': 8},\n",
        "                                         startangle=90, colors=elec_type_colors , rotatelabels=True,\n",
        "                                         labeldistance=0.7, wedgeprops={'width':0.9}, frame=True)\n",
        "    plt.ylabel('')\n",
        "    plt.title(Make, color='black', fontsize=10, weight='bold')\n",
        "plt.tight_layout()"
      ],
      "metadata": {
        "_kg_hide-input": true,
        "execution": {
          "iopub.status.busy": "2024-11-19T01:52:58.245902Z",
          "iopub.execute_input": "2024-11-19T01:52:58.246247Z",
          "iopub.status.idle": "2024-11-19T01:53:05.485774Z",
          "shell.execute_reply.started": "2024-11-19T01:52:58.246203Z",
          "shell.execute_reply": "2024-11-19T01:53:05.484727Z"
        },
        "trusted": true,
        "id": "UpZpi0FSJVgW"
      },
      "outputs": [],
      "execution_count": null
    },
    {
      "cell_type": "markdown",
      "source": [
        "We will focus on the top ten car makes."
      ],
      "metadata": {
        "id": "-lxKE49dJVgW"
      }
    },
    {
      "cell_type": "markdown",
      "source": [
        "### <span style= \"font-family: Calibri; font-weight:bold; letter-spacing: 0px; color: yellow; border-radius:5px; font-size:120%; text-align:left;padding:3.0px; background: #3da859 ; border-bottom: 4px solid yellow; border-top: 4px solid k\" > 4.2.4 Count Within Top 10 Makes</span>"
      ],
      "metadata": {
        "id": "FV8MDAsAJVgX"
      }
    },
    {
      "cell_type": "code",
      "source": [
        "Top_10_Makes = list(df_WA['Make'].value_counts().head(10).index)\n",
        "\n",
        "df_WA_10 = df_WA.query(\"Make in ['TESLA','CHEVROLET','NISSAN','FORD','KIA','BMW','TOYOTA','HYUNDAI','RIVIAN','VOLKSWAGEN']\")"
      ],
      "metadata": {
        "execution": {
          "iopub.status.busy": "2024-11-19T01:53:05.486975Z",
          "iopub.execute_input": "2024-11-19T01:53:05.487277Z",
          "iopub.status.idle": "2024-11-19T01:53:05.556018Z",
          "shell.execute_reply.started": "2024-11-19T01:53:05.487247Z",
          "shell.execute_reply": "2024-11-19T01:53:05.554521Z"
        },
        "trusted": true,
        "id": "cIgmQbbgJVgX"
      },
      "outputs": [],
      "execution_count": null
    },
    {
      "cell_type": "code",
      "source": [
        "table = pd.pivot_table(df_WA_10, values='VIN (1-10)' , columns=['Make'],\n",
        "                       index=['County'], aggfunc={'count'}, fill_value=0)\n",
        "\n",
        "# Apply styling to the pivot table\n",
        "styled_table = table.style.format(\"{:d}\").background_gradient(cmap='YlGn', axis=1)#.set_caption('Pivot Table with Conditional Formatting')\n",
        "\n",
        "# Display the styled pivot table\n",
        "styled_table"
      ],
      "metadata": {
        "execution": {
          "iopub.status.busy": "2024-11-19T01:53:05.55721Z",
          "iopub.execute_input": "2024-11-19T01:53:05.557535Z",
          "iopub.status.idle": "2024-11-19T01:53:05.683828Z",
          "shell.execute_reply.started": "2024-11-19T01:53:05.557502Z",
          "shell.execute_reply": "2024-11-19T01:53:05.682708Z"
        },
        "trusted": true,
        "id": "uDOdLFTOJVgX"
      },
      "outputs": [],
      "execution_count": null
    },
    {
      "cell_type": "code",
      "source": [
        "table = pd.pivot_table(df_WA_10, values='VIN (1-10)' , columns=['Make'],\n",
        "                       index=['County'], aggfunc={'count'}, fill_value=0)\n",
        "\n",
        "# Apply styling to the pivot table\n",
        "styled_table = table.style.format(\"{:d}\").bar(cmap='YlGn', axis=1)#.set_caption('Pivot Table with Conditional Formatting')\n",
        "\n",
        "# Display the styled pivot table\n",
        "styled_table"
      ],
      "metadata": {
        "execution": {
          "iopub.status.busy": "2024-11-19T01:53:05.685113Z",
          "iopub.execute_input": "2024-11-19T01:53:05.685434Z",
          "iopub.status.idle": "2024-11-19T01:53:05.7984Z",
          "shell.execute_reply.started": "2024-11-19T01:53:05.685404Z",
          "shell.execute_reply": "2024-11-19T01:53:05.797237Z"
        },
        "trusted": true,
        "id": "ie8s9N8XJVgX"
      },
      "outputs": [],
      "execution_count": null
    },
    {
      "cell_type": "markdown",
      "source": [
        "### <span style= \"font-family: Calibri; font-weight:bold; letter-spacing: 0px; color: yellow; border-radius:5px; font-size:120%; text-align:left;padding:3.0px; background: #3da859 ; border-bottom: 4px solid yellow; border-top: 4px solid k\" > 4.2.5 Count Within counties</span>"
      ],
      "metadata": {
        "id": "x0QBGwF7JVgX"
      }
    },
    {
      "cell_type": "code",
      "source": [
        "table_county_Make = pd.pivot_table(df_WA_10, values='VIN (1-10)' , columns=['Make'],\n",
        "                       index=['County'], aggfunc={'count'}, fill_value=0)\n",
        "\n",
        "# Apply styling to the pivot table\n",
        "styled_table_county_Make = table_county_Make.style.format(\"{:d}\").background_gradient(cmap='Blues', axis=0).background_gradient(cmap='Greens', axis=0)#.set_caption('Pivot Table with Conditional Formatting')\n",
        "\n",
        "# Display the styled pivot table\n",
        "styled_table_county_Make"
      ],
      "metadata": {
        "execution": {
          "iopub.status.busy": "2024-11-19T01:53:05.799933Z",
          "iopub.execute_input": "2024-11-19T01:53:05.800352Z",
          "iopub.status.idle": "2024-11-19T01:53:05.909795Z",
          "shell.execute_reply.started": "2024-11-19T01:53:05.800306Z",
          "shell.execute_reply": "2024-11-19T01:53:05.90875Z"
        },
        "trusted": true,
        "id": "jqNlt3M-JVgX"
      },
      "outputs": [],
      "execution_count": null
    },
    {
      "cell_type": "code",
      "source": [
        "df_full['Legislative District'].astype('string').map(lambda x: x.split('.')[0]).value_counts().to_frame().style.bar(cmap='RdYlBu')"
      ],
      "metadata": {
        "execution": {
          "iopub.status.busy": "2024-11-19T01:53:05.911047Z",
          "iopub.execute_input": "2024-11-19T01:53:05.911331Z",
          "iopub.status.idle": "2024-11-19T01:53:06.000998Z",
          "shell.execute_reply.started": "2024-11-19T01:53:05.911303Z",
          "shell.execute_reply": "2024-11-19T01:53:05.999886Z"
        },
        "trusted": true,
        "id": "MxQefReDJVgY"
      },
      "outputs": [],
      "execution_count": null
    },
    {
      "cell_type": "code",
      "source": [
        "table = pd.pivot_table(df_WA_10, values='VIN (1-10)' , columns=['Make'],\n",
        "                       index=['Legislative District', 'Electric Vehicle Type'], aggfunc={'count'}, fill_value=0)\n",
        "\n",
        "# Apply styling to the pivot table\n",
        "styled_table = table.style.format(\"{:d}\").background_gradient(cmap='YlGn', axis=1)#.set_caption('Pivot Table with Conditional Formatting')\n",
        "\n",
        "# Display the styled pivot table\n",
        "styled_table"
      ],
      "metadata": {
        "execution": {
          "iopub.status.busy": "2024-11-19T01:53:06.002288Z",
          "iopub.execute_input": "2024-11-19T01:53:06.00258Z",
          "iopub.status.idle": "2024-11-19T01:53:06.233116Z",
          "shell.execute_reply.started": "2024-11-19T01:53:06.002553Z",
          "shell.execute_reply": "2024-11-19T01:53:06.231979Z"
        },
        "trusted": true,
        "id": "jJQ_2xEIJVgY"
      },
      "outputs": [],
      "execution_count": null
    },
    {
      "cell_type": "markdown",
      "source": [
        "### <span style= \"font-family: Calibri; font-weight:bold; letter-spacing: 0px; color: yellow; border-radius:5px; font-size:120%; text-align:left;padding:3.0px; background: #3da859 ; border-bottom: 4px solid yellow; border-top: 4px solid k\" > 4.2.6 Count within cities </span>"
      ],
      "metadata": {
        "id": "bLo-K7Q4JVgY"
      }
    },
    {
      "cell_type": "code",
      "source": [
        "table = pd.pivot_table(df_WA_10, values='VIN (1-10)' , columns=['Make'],\n",
        "                       index=['City'], aggfunc={'count'}, fill_value=0)\n",
        "\n",
        "# Apply styling to the pivot table\n",
        "styled_table = table.style.format(\"{:d}\").background_gradient(cmap='YlGn', axis=0)#.set_caption('Pivot Table with Conditional Formatting')\n",
        "\n",
        "# Display the styled pivot table\n",
        "styled_table"
      ],
      "metadata": {
        "_kg_hide-output": true,
        "_kg_hide-input": true,
        "execution": {
          "iopub.status.busy": "2024-11-19T01:53:06.234257Z",
          "iopub.execute_input": "2024-11-19T01:53:06.234641Z",
          "iopub.status.idle": "2024-11-19T01:53:06.531221Z",
          "shell.execute_reply.started": "2024-11-19T01:53:06.234605Z",
          "shell.execute_reply": "2024-11-19T01:53:06.530112Z"
        },
        "trusted": true,
        "id": "nVwl5521JVgY"
      },
      "outputs": [],
      "execution_count": null
    },
    {
      "cell_type": "markdown",
      "source": [
        "# <span style= \"font-family: Calibri; font-weight:bold; letter-spacing: 0px; color: yellow; border-radius:5px; font-size:120%; text-align:left;padding:3.0px; background: #3da859 ; border-bottom: 4px solid yellow; border-top: 4px solid k\" > 5. Geospatial Analysis in Washington </span>"
      ],
      "metadata": {
        "id": "qvt2lLlsJVgY"
      }
    },
    {
      "cell_type": "markdown",
      "source": [
        "## <span style= \"font-family: Calibri; font-weight:bold; letter-spacing: 0px; color: yellow; border-radius:5px; font-size:120%; text-align:left;padding:3.0px; background: #3da859 ; border-bottom: 4px solid yellow; border-top: 4px solid k\" > 5.2 Map distribution in Washington for Electric Type </span>"
      ],
      "metadata": {
        "id": "z6kAdiJ-JVgZ"
      }
    },
    {
      "cell_type": "code",
      "source": [
        "gdf_WA_BEV = gdf_WA[gdf_WA['Electric Vehicle Type']=='BEV']\n",
        "gdf_WA_PHEV = gdf_WA[gdf_WA['Electric Vehicle Type']=='PHEV']"
      ],
      "metadata": {
        "execution": {
          "iopub.status.busy": "2024-11-19T01:53:06.532784Z",
          "iopub.execute_input": "2024-11-19T01:53:06.533224Z",
          "iopub.status.idle": "2024-11-19T01:53:06.621821Z",
          "shell.execute_reply.started": "2024-11-19T01:53:06.533178Z",
          "shell.execute_reply": "2024-11-19T01:53:06.620701Z"
        },
        "trusted": true,
        "id": "Ia0j6FHSJVgZ"
      },
      "outputs": [],
      "execution_count": null
    },
    {
      "cell_type": "code",
      "source": [
        "# # Create the map\n",
        "# WA_map = folium.Map(location=[47.46, -120.67], tiles='cartodbpositron', zoom_start=7.8)\n",
        "\n",
        "\n",
        "# def color_scheem(val):\n",
        "#     if val == 'BEV':\n",
        "#         return 'green'\n",
        "#     else:\n",
        "#         return 'yellow'\n",
        "\n",
        "# for i in range(0, len(gdf_WA)):\n",
        "#     folium.Circle(\n",
        "#         location= (gdf_WA.iloc[i]['lat'], gdf_WA.iloc[i]['lon']),\n",
        "#         radius=500,\n",
        "#         color=color_scheem(gdf_WA.iloc[i]['Electric Vehicle Type'])\n",
        "#     ).add_to(WA_map)\n",
        "\n",
        "# # Diplay th map\n",
        "# WA_map"
      ],
      "metadata": {
        "_kg_hide-input": true,
        "execution": {
          "iopub.status.busy": "2024-11-19T01:53:06.623106Z",
          "iopub.execute_input": "2024-11-19T01:53:06.623414Z",
          "iopub.status.idle": "2024-11-19T01:53:06.628251Z",
          "shell.execute_reply.started": "2024-11-19T01:53:06.623384Z",
          "shell.execute_reply": "2024-11-19T01:53:06.62704Z"
        },
        "trusted": true,
        "id": "-VD56Z5WJVga"
      },
      "outputs": [],
      "execution_count": null
    },
    {
      "cell_type": "markdown",
      "source": [
        "### <span style= \"font-family: Calibri; font-weight:bold; letter-spacing: 0px; color: yellow; border-radius:5px; font-size:120%; text-align:left;padding:3.0px; background: #3da859 ; border-bottom: 4px solid yellow; border-top: 4px solid k\" > 5.2.1 Map distribution BEV Type </span>"
      ],
      "metadata": {
        "id": "rMTbLOT7JVga"
      }
    },
    {
      "cell_type": "code",
      "source": [
        "# Create the map\n",
        "WA_map = folium.Map(location=[47.25, -120.67], tiles='cartodbpositron', zoom_start=6.8)\n",
        "\n",
        "# Add points to the map\n",
        "mc = MarkerCluster()\n",
        "for idx, row in gdf_WA_BEV.iterrows():\n",
        "    if not math.isnan(row['lon']) and not math.isnan(row['lat']):\n",
        "        mc.add_child(Marker([row['lat'], row['lon']]))\n",
        "WA_map.add_child(mc)\n",
        "\n",
        "# Display the map\n",
        "WA_map"
      ],
      "metadata": {
        "execution": {
          "iopub.status.busy": "2024-11-19T01:53:06.63012Z",
          "iopub.execute_input": "2024-11-19T01:53:06.630458Z",
          "iopub.status.idle": "2024-11-19T01:54:40.910565Z",
          "shell.execute_reply.started": "2024-11-19T01:53:06.630428Z",
          "shell.execute_reply": "2024-11-19T01:54:40.909142Z"
        },
        "trusted": true,
        "id": "3fy6lq-rJVga"
      },
      "outputs": [],
      "execution_count": null
    },
    {
      "cell_type": "markdown",
      "source": [
        "### <span style= \"font-family: Calibri; font-weight:bold; letter-spacing: 0px; color: yellow; border-radius:5px; font-size:120%; text-align:left;padding:3.0px; background: #3da859 ; border-bottom: 4px solid yellow; border-top: 4px solid k\" > 5.2.1 Map distribution PHEV Type </span>"
      ],
      "metadata": {
        "id": "lzfbb2hbJVga"
      }
    },
    {
      "cell_type": "code",
      "source": [
        "# Create the map\n",
        "WA_map = folium.Map(location=[47.25, -120.67], tiles='cartodbpositron', zoom_start=6.8,)\n",
        "\n",
        "# Add points to the map\n",
        "mc = MarkerCluster()\n",
        "for idx, row in gdf_WA_PHEV.iterrows():\n",
        "    if not math.isnan(row['lon']) and not math.isnan(row['lat']):\n",
        "        mc.add_child(Marker([row['lat'], row['lon']]))\n",
        "WA_map.add_child(mc)\n",
        "\n",
        "# Display the map\n",
        "WA_map"
      ],
      "metadata": {
        "execution": {
          "iopub.status.busy": "2024-11-19T01:54:40.912354Z",
          "iopub.execute_input": "2024-11-19T01:54:40.912757Z",
          "iopub.status.idle": "2024-11-19T01:55:05.990505Z",
          "shell.execute_reply.started": "2024-11-19T01:54:40.912719Z",
          "shell.execute_reply": "2024-11-19T01:55:05.989354Z"
        },
        "trusted": true,
        "id": "rGxhuHpdJVgb"
      },
      "outputs": [],
      "execution_count": null
    },
    {
      "cell_type": "markdown",
      "source": [
        "### <center style= \"font-family: Calibri; font-weight:bold; letter-spacing: 0px; color: yellow; border-radius:5px; font-size:120%; text-align:left;padding:3.0px; background: #3da859 ; border-bottom: 4px solid yellow; border-top: 4px solid k\" > So much is left to do on this dataset. Please join me in getting the story out of it.</center>"
      ],
      "metadata": {
        "id": "t4E_oxMeJVgb"
      }
    },
    {
      "cell_type": "markdown",
      "source": [
        "<center>\n",
        "<img src=\"https://storage.googleapis.com/kaggle-datasets-images/5809040/9537118/38378fdb34deae38f31e1eaebfb258cb/dataset-cover.jpg?t=2024-10-03-07-53-08\" width=\"1000\"/>\n",
        "</center>"
      ],
      "metadata": {
        "id": "hRooDYcbJVgb"
      }
    }
  ]
}